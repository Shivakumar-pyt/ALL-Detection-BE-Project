{
 "cells": [
  {
   "cell_type": "code",
   "execution_count": 1,
   "id": "f52ade20",
   "metadata": {},
   "outputs": [],
   "source": [
    "import os\n",
    "import pandas as pd\n",
    "import numpy as np\n",
    "import tensorflow as tf\n",
    "from tensorflow.keras.preprocessing.image import ImageDataGenerator\n",
    "from tensorflow.keras import layers, models\n",
    "from tensorflow.keras import regularizers"
   ]
  },
  {
   "cell_type": "code",
   "execution_count": 2,
   "id": "5c4cfba3",
   "metadata": {},
   "outputs": [],
   "source": [
    "train_dir = 'C:/Users/hp/Desktop/BE_Project_Dataset/training_dataset'\n",
    "test_dir = 'C:/Users/hp/Desktop/BE_Project_Dataset/testing_dataset'\n",
    "test_csv_path ='C:/Users/hp/Desktop/BE_Project_Dataset/test.csv'"
   ]
  },
  {
   "cell_type": "code",
   "execution_count": 3,
   "id": "d5d8c6fe",
   "metadata": {},
   "outputs": [],
   "source": [
    "img_size = (256, 256)\n",
    "batch_size = 4"
   ]
  },
  {
   "cell_type": "code",
   "execution_count": 4,
   "id": "ddaf9de9",
   "metadata": {},
   "outputs": [
    {
     "name": "stdout",
     "output_type": "stream",
     "text": [
      "Found 360 images belonging to 3 classes.\n"
     ]
    }
   ],
   "source": [
    "train_datagen = ImageDataGenerator(\n",
    "    rescale=1./255,\n",
    "    shear_range=0.2,\n",
    "    zoom_range=0.2,\n",
    "    horizontal_flip=True,\n",
    "    validation_split=0.2\n",
    ")\n",
    "\n",
    "train_generator = train_datagen.flow_from_directory(\n",
    "    train_dir,\n",
    "    target_size=img_size,\n",
    "    batch_size=batch_size,\n",
    "    class_mode='categorical',\n",
    "    subset='training'\n",
    ")"
   ]
  },
  {
   "cell_type": "code",
   "execution_count": 5,
   "id": "8f7bcda9",
   "metadata": {},
   "outputs": [
    {
     "name": "stdout",
     "output_type": "stream",
     "text": [
      "Found 90 images belonging to 3 classes.\n"
     ]
    }
   ],
   "source": [
    "validation_generator = train_datagen.flow_from_directory(\n",
    "    train_dir,\n",
    "    target_size=img_size,\n",
    "    batch_size=batch_size,\n",
    "    class_mode='categorical',\n",
    "    subset='validation'\n",
    ")"
   ]
  },
  {
   "cell_type": "code",
   "execution_count": 6,
   "id": "87daf6b7",
   "metadata": {},
   "outputs": [],
   "source": [
    "model = models.Sequential()\n",
    "model.add(layers.Conv2D(32, (3, 3), activation='relu', input_shape=(256, 256, 3)))\n",
    "model.add(layers.MaxPooling2D((2, 2)))\n",
    "model.add(layers.Conv2D(64, (3, 3), activation='relu'))\n",
    "model.add(layers.MaxPooling2D((2, 2)))\n",
    "model.add(layers.Flatten())\n",
    "model.add(layers.Dense(256, activation='relu'))\n",
    "model.add(layers.Dense(128, activation='relu'))  \n",
    "model.add(layers.Dense(3, activation='softmax'))"
   ]
  },
  {
   "cell_type": "code",
   "execution_count": 7,
   "id": "914588db",
   "metadata": {},
   "outputs": [],
   "source": [
    "model.compile(optimizer='adam',\n",
    "              loss='categorical_crossentropy',\n",
    "              metrics=['accuracy'])"
   ]
  },
  {
   "cell_type": "code",
   "execution_count": 8,
   "id": "1391abce",
   "metadata": {},
   "outputs": [
    {
     "name": "stdout",
     "output_type": "stream",
     "text": [
      "Epoch 1/8\n",
      "90/90 [==============================] - 71s 786ms/step - loss: 0.2187 - accuracy: 0.9250 - val_loss: 0.1162 - val_accuracy: 0.9444\n",
      "Epoch 2/8\n",
      "90/90 [==============================] - 70s 779ms/step - loss: 0.1041 - accuracy: 0.9639 - val_loss: 0.4164 - val_accuracy: 0.9111\n",
      "Epoch 3/8\n",
      "90/90 [==============================] - 70s 777ms/step - loss: 0.1172 - accuracy: 0.9750 - val_loss: 0.2574 - val_accuracy: 0.9222\n",
      "Epoch 4/8\n",
      "90/90 [==============================] - 69s 765ms/step - loss: 0.1098 - accuracy: 0.9806 - val_loss: 0.1679 - val_accuracy: 0.9333\n",
      "Epoch 5/8\n",
      "90/90 [==============================] - 67s 741ms/step - loss: 0.0762 - accuracy: 0.9750 - val_loss: 0.0418 - val_accuracy: 0.9889\n",
      "Epoch 6/8\n",
      "90/90 [==============================] - 70s 776ms/step - loss: 0.0853 - accuracy: 0.9833 - val_loss: 0.1754 - val_accuracy: 0.9333\n",
      "Epoch 7/8\n",
      "90/90 [==============================] - 69s 768ms/step - loss: 0.0750 - accuracy: 0.9722 - val_loss: 0.0496 - val_accuracy: 0.9667\n",
      "Epoch 8/8\n",
      "90/90 [==============================] - 69s 765ms/step - loss: 0.0563 - accuracy: 0.9861 - val_loss: 0.0469 - val_accuracy: 0.9778\n"
     ]
    }
   ],
   "source": [
    "history = model.fit(\n",
    "    train_generator,\n",
    "    epochs=8,\n",
    "    validation_data=validation_generator\n",
    ")"
   ]
  },
  {
   "cell_type": "code",
   "execution_count": 9,
   "id": "9a72cce0",
   "metadata": {},
   "outputs": [],
   "source": [
    "test_df = pd.read_csv(test_csv_path)"
   ]
  },
  {
   "cell_type": "code",
   "execution_count": 10,
   "id": "32114599",
   "metadata": {},
   "outputs": [
    {
     "name": "stdout",
     "output_type": "stream",
     "text": [
      "Found 109 validated image filenames belonging to 3 classes.\n"
     ]
    }
   ],
   "source": [
    "test_datagen = ImageDataGenerator(rescale=1./255)\n",
    "test_generator = test_datagen.flow_from_dataframe(\n",
    "    test_df,\n",
    "    directory=test_dir,\n",
    "    x_col='Image Name',\n",
    "    y_col='Class',\n",
    "    target_size=img_size,\n",
    "    batch_size=batch_size,\n",
    "    class_mode='categorical',\n",
    "    shuffle=False\n",
    ")"
   ]
  },
  {
   "cell_type": "code",
   "execution_count": 11,
   "id": "73e68672",
   "metadata": {},
   "outputs": [
    {
     "name": "stdout",
     "output_type": "stream",
     "text": [
      "28/28 [==============================] - 2s 85ms/step - loss: 0.0204 - accuracy: 0.9908\n",
      "Test Accuracy: 99.08%\n"
     ]
    }
   ],
   "source": [
    "evaluation = model.evaluate(test_generator)\n",
    "\n",
    "accuracy = evaluation[1]\n",
    "print(f\"Test Accuracy: {accuracy * 100:.2f}%\")"
   ]
  },
  {
   "cell_type": "code",
   "execution_count": 13,
   "id": "38b445ec",
   "metadata": {},
   "outputs": [],
   "source": [
    "model.save(\"cnn_model.h5\")"
   ]
  },
  {
   "cell_type": "code",
   "execution_count": null,
   "id": "e61dd7c8",
   "metadata": {},
   "outputs": [],
   "source": []
  }
 ],
 "metadata": {
  "kernelspec": {
   "display_name": "Python 3 (ipykernel)",
   "language": "python",
   "name": "python3"
  },
  "language_info": {
   "codemirror_mode": {
    "name": "ipython",
    "version": 3
   },
   "file_extension": ".py",
   "mimetype": "text/x-python",
   "name": "python",
   "nbconvert_exporter": "python",
   "pygments_lexer": "ipython3",
   "version": "3.9.12"
  }
 },
 "nbformat": 4,
 "nbformat_minor": 5
}
