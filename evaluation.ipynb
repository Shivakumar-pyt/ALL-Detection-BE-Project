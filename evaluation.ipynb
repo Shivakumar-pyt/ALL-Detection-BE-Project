{
 "cells": [
  {
   "cell_type": "code",
   "execution_count": 1,
   "id": "20d35e04",
   "metadata": {},
   "outputs": [],
   "source": [
    "import pickle\n",
    "from tensorflow.keras.utils import load_img, img_to_array\n",
    "from tensorflow.keras.models import load_model, save_model\n",
    "import numpy as np\n",
    "from tensorflow.keras.preprocessing.image import ImageDataGenerator\n",
    "from sklearn.metrics import confusion_matrix\n",
    "import pickle\n",
    "import pandas as pd"
   ]
  },
  {
   "cell_type": "code",
   "execution_count": 2,
   "id": "70963802",
   "metadata": {},
   "outputs": [],
   "source": [
    "img_size = (256, 256)"
   ]
  },
  {
   "cell_type": "code",
   "execution_count": 3,
   "id": "51b5a0c6",
   "metadata": {},
   "outputs": [],
   "source": [
    "test_dir = 'C:/Users/hp/Desktop/BE_Project_Dataset/testing_dataset'\n",
    "test_csv_path ='C:/Users/hp/Desktop/BE_Project_Dataset/test.csv'"
   ]
  },
  {
   "cell_type": "code",
   "execution_count": 4,
   "id": "eb8fdab9",
   "metadata": {},
   "outputs": [],
   "source": [
    "test_df = pd.read_csv(test_csv_path)"
   ]
  },
  {
   "cell_type": "code",
   "execution_count": 5,
   "id": "e36be9df",
   "metadata": {},
   "outputs": [
    {
     "name": "stdout",
     "output_type": "stream",
     "text": [
      "Found 109 validated image filenames belonging to 3 classes.\n"
     ]
    }
   ],
   "source": [
    "test_datagen = ImageDataGenerator(rescale=1./255)\n",
    "test_generator = test_datagen.flow_from_dataframe(\n",
    "    test_df,\n",
    "    directory=test_dir,\n",
    "    x_col='Image Name',\n",
    "    y_col='Class',\n",
    "    target_size=img_size,\n",
    "    class_mode='categorical',\n",
    "    shuffle=False\n",
    ")"
   ]
  },
  {
   "cell_type": "code",
   "execution_count": 6,
   "id": "40b42eed",
   "metadata": {},
   "outputs": [],
   "source": [
    "model_pkl_file = \"final_cnn_model.pkl\"\n",
    "with open(model_pkl_file,\"rb\") as file:\n",
    "    model = pickle.load(file)"
   ]
  },
  {
   "cell_type": "code",
   "execution_count": 8,
   "id": "06bddad2",
   "metadata": {},
   "outputs": [
    {
     "name": "stdout",
     "output_type": "stream",
     "text": [
      "1/1 [==============================] - 0s 152ms/step\n",
      "1/1 [==============================] - 0s 143ms/step\n",
      "1/1 [==============================] - 0s 143ms/step\n",
      "1/1 [==============================] - 0s 125ms/step\n"
     ]
    }
   ],
   "source": [
    "true_labels = []\n",
    "predicted_labels = []\n",
    "for i in range(len(test_generator)):\n",
    "    batch_data, batch_labels = test_generator[i]\n",
    "    batch_pred_labels = model.predict(batch_data) \n",
    "    predicted_labels.extend(batch_pred_labels)\n",
    "    true_labels.extend(batch_labels)\n",
    "    \n",
    "true_labels = np.array(true_labels)\n",
    "predicted_labels = np.array(predicted_labels)"
   ]
  },
  {
   "cell_type": "code",
   "execution_count": 9,
   "id": "c395bcee",
   "metadata": {},
   "outputs": [
    {
     "name": "stdout",
     "output_type": "stream",
     "text": [
      "4/4 [==============================] - 1s 108ms/step - loss: 0.0161 - accuracy: 0.9908\n",
      "Test Accuracy: 99.08%\n"
     ]
    }
   ],
   "source": [
    "evaluation = model.evaluate(test_generator)\n",
    "\n",
    "accuracy = evaluation[1]\n",
    "print(f\"Test Accuracy: {accuracy * 100:.2f}%\")"
   ]
  },
  {
   "cell_type": "code",
   "execution_count": 32,
   "id": "43965e81",
   "metadata": {},
   "outputs": [],
   "source": [
    "conf_matrix = confusion_matrix(true_labels.argmax(axis=1), predicted_labels.argmax(axis=1))"
   ]
  },
  {
   "cell_type": "code",
   "execution_count": 36,
   "id": "f38252fe",
   "metadata": {},
   "outputs": [
    {
     "data": {
      "text/plain": [
       "<AxesSubplot:>"
      ]
     },
     "execution_count": 36,
     "metadata": {},
     "output_type": "execute_result"
    },
    {
     "data": {
      "image/png": "[encoded data removed]",
      "text/plain": [
       "<Figure size 432x288 with 2 Axes>"
      ]
     },
     "metadata": {
      "needs_background": "light"
     },
     "output_type": "display_data"
    }
   ],
   "source": [
    "import seaborn as sns\n",
    "sns.heatmap(conf_matrix, annot=True, fmt='d', cmap='Blues')"
   ]
  },
  {
   "cell_type": "code",
   "execution_count": null,
   "id": "40c54dba",
   "metadata": {},
   "outputs": [],
   "source": []
  }
 ],
 "metadata": {
  "kernelspec": {
   "display_name": "Python 3 (ipykernel)",
   "language": "python",
   "name": "python3"
  },
  "language_info": {
   "codemirror_mode": {
    "name": "ipython",
    "version": 3
   },
   "file_extension": ".py",
   "mimetype": "text/x-python",
   "name": "python",
   "nbconvert_exporter": "python",
   "pygments_lexer": "ipython3",
   "version": "3.9.12"
  }
 },
 "nbformat": 4,
 "nbformat_minor": 5
}
