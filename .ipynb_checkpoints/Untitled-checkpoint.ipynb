{
 "cells": [
  {
   "cell_type": "code",
   "execution_count": 1,
   "id": "818c35fb",
   "metadata": {},
   "outputs": [],
   "source": [
    "import os\n",
    "import pandas as pd\n",
    "import numpy as np\n",
    "import tensorflow as tf\n",
    "from tensorflow.keras.preprocessing.image import ImageDataGenerator\n",
    "from tensorflow.keras import layers, models\n",
    "from tensorflow.keras import regularizers"
   ]
  },
  {
   "cell_type": "code",
   "execution_count": 16,
   "id": "1743ba38",
   "metadata": {},
   "outputs": [],
   "source": [
    "train_dir = 'C:/Users/hp/Desktop/BE_Project_Dataset/training_dataset'\n",
    "test_dir = 'C:/Users/hp/Desktop/BE_Project_Dataset/testing_dataset'\n",
    "test_csv_path ='C:/Users/hp/Desktop/BE_Project_Dataset/test.csv'"
   ]
  },
  {
   "cell_type": "code",
   "execution_count": 3,
   "id": "b9925cce",
   "metadata": {},
   "outputs": [],
   "source": [
    "img_size = (256, 256)\n",
    "batch_size = 4"
   ]
  },
  {
   "cell_type": "code",
   "execution_count": 4,
   "id": "d4185f01",
   "metadata": {},
   "outputs": [
    {
     "name": "stdout",
     "output_type": "stream",
     "text": [
      "Found 360 images belonging to 3 classes.\n"
     ]
    }
   ],
   "source": [
    "train_datagen = ImageDataGenerator(\n",
    "    rescale=1./255,\n",
    "    shear_range=0.2,\n",
    "    zoom_range=0.2,\n",
    "    horizontal_flip=True,\n",
    "    validation_split=0.2\n",
    ")\n",
    "\n",
    "train_generator = train_datagen.flow_from_directory(\n",
    "    train_dir,\n",
    "    target_size=img_size,\n",
    "    batch_size=batch_size,\n",
    "    class_mode='categorical',\n",
    "    subset='training'\n",
    ")"
   ]
  },
  {
   "cell_type": "code",
   "execution_count": 5,
   "id": "8d456cdf",
   "metadata": {},
   "outputs": [
    {
     "name": "stdout",
     "output_type": "stream",
     "text": [
      "Found 90 images belonging to 3 classes.\n"
     ]
    }
   ],
   "source": [
    "validation_generator = train_datagen.flow_from_directory(\n",
    "    train_dir,\n",
    "    target_size=img_size,\n",
    "    batch_size=batch_size,\n",
    "    class_mode='categorical',\n",
    "    subset='validation'\n",
    ")"
   ]
  },
  {
   "cell_type": "code",
   "execution_count": 6,
   "id": "8d634bb2",
   "metadata": {},
   "outputs": [],
   "source": [
    "# model = models.Sequential()\n",
    "# model.add(layers.Conv2D(32, (3, 3), activation='relu', input_shape=(256, 256, 3)))\n",
    "# model.add(layers.MaxPooling2D((2, 2)))\n",
    "# model.add(layers.Conv2D(64, (3, 3), activation='relu'))\n",
    "# model.add(layers.MaxPooling2D((2, 2)))\n",
    "# model.add(layers.Flatten())\n",
    "# model.add(layers.Dense(256, activation='relu'))\n",
    "# model.add(layers.Dense(128, activation='relu'))  \n",
    "# model.add(layers.Dense(3, activation='softmax'))"
   ]
  },
  {
   "cell_type": "code",
   "execution_count": 7,
   "id": "57f42171",
   "metadata": {},
   "outputs": [],
   "source": [
    "# model = models.Sequential()\n",
    "# model.add(layers.Conv2D(64, (3, 3), activation='relu', input_shape=(256, 256, 3)))\n",
    "# model.add(layers.MaxPooling2D((2, 2)))\n",
    "# model.add(layers.Flatten())\n",
    "# model.add(layers.Dense(128, activation='relu'))\n",
    "# model.add(layers.Dense(64, activation='relu'))  \n",
    "# model.add(layers.Dense(3, activation='softmax'))"
   ]
  },
  {
   "cell_type": "code",
   "execution_count": 27,
   "id": "57e3f69c",
   "metadata": {},
   "outputs": [],
   "source": [
    "model = models.Sequential()\n",
    "model.add(layers.Conv2D(32, (3, 3), activation='relu', input_shape=(256, 256, 3)))\n",
    "model.add(layers.MaxPooling2D((2, 2)) )\n",
    "model.add(layers.Conv2D(16, (3, 3), activation='relu'))\n",
    "model.add(layers.MaxPooling2D((2, 2)))\n",
    "model.add(layers.Flatten())\n",
    "model.add(layers.Dense(192, activation='relu'))\n",
    "model.add(layers.Dense(96, activation='relu'))  \n",
    "model.add(layers.Dense(3, activation='softmax'))"
   ]
  },
  {
   "cell_type": "code",
   "execution_count": 9,
   "id": "9c4f701d",
   "metadata": {},
   "outputs": [],
   "source": [
    "# model = models.Sequential()\n",
    "# model.add(layers.Conv2D(32, (3, 3), activation='relu', input_shape=(256, 256, 3)))\n",
    "# model.add(layers.MaxPooling2D((2, 2)))\n",
    "# model.add(layers.Conv2D(64, (3, 3), activation='relu'))\n",
    "# model.add(layers.MaxPooling2D((2, 2)))\n",
    "# model.add(layers.Conv2D(128, (3, 3), activation='relu'))\n",
    "# model.add(layers.MaxPooling2D((2, 2)))\n",
    "\n",
    "# # Flatten layer\n",
    "# model.add(layers.Flatten())\n",
    "\n",
    "# # Dense layers\n",
    "# model.add(layers.Dense(64, activation='relu'))\n",
    "# model.add(layers.Dropout(0.5))  # Dropout for regularization\n",
    "# model.add(layers.Dense(3, activation='softmax'))"
   ]
  },
  {
   "cell_type": "code",
   "execution_count": 10,
   "id": "45f91c52",
   "metadata": {},
   "outputs": [],
   "source": [
    "# model.compile(optimizer=tf.keras.optimizers.Adam(learning_rate=0.00002), loss='categorical_crossentropy', metrics=['accuracy'])"
   ]
  },
  {
   "cell_type": "code",
   "execution_count": 28,
   "id": "7f8945d8",
   "metadata": {},
   "outputs": [],
   "source": [
    "model.compile(optimizer='adam',\n",
    "              loss='categorical_crossentropy',\n",
    "              metrics=['accuracy'])"
   ]
  },
  {
   "cell_type": "code",
   "execution_count": 29,
   "id": "d82a5dc4",
   "metadata": {
    "scrolled": true
   },
   "outputs": [
    {
     "name": "stdout",
     "output_type": "stream",
     "text": [
      "Epoch 1/8\n",
      "90/90 [==============================] - 29s 305ms/step - loss: 0.3669 - accuracy: 0.8167 - val_loss: 0.2376 - val_accuracy: 0.8889\n",
      "Epoch 2/8\n",
      "90/90 [==============================] - 27s 298ms/step - loss: 0.1362 - accuracy: 0.9583 - val_loss: 0.0701 - val_accuracy: 0.9556\n",
      "Epoch 3/8\n",
      "90/90 [==============================] - 27s 298ms/step - loss: 0.0986 - accuracy: 0.9778 - val_loss: 0.0841 - val_accuracy: 0.9667\n",
      "Epoch 4/8\n",
      "90/90 [==============================] - 27s 299ms/step - loss: 0.0843 - accuracy: 0.9806 - val_loss: 0.0435 - val_accuracy: 0.9889\n",
      "Epoch 5/8\n",
      "90/90 [==============================] - 27s 297ms/step - loss: 0.0535 - accuracy: 0.9833 - val_loss: 0.0444 - val_accuracy: 0.9778\n",
      "Epoch 6/8\n",
      "90/90 [==============================] - 27s 297ms/step - loss: 0.0638 - accuracy: 0.9917 - val_loss: 0.0247 - val_accuracy: 1.0000\n",
      "Epoch 7/8\n",
      "90/90 [==============================] - 28s 305ms/step - loss: 0.0420 - accuracy: 0.9917 - val_loss: 0.0549 - val_accuracy: 0.9778\n",
      "Epoch 8/8\n",
      "90/90 [==============================] - 27s 297ms/step - loss: 0.1611 - accuracy: 0.9750 - val_loss: 0.1451 - val_accuracy: 0.9333\n"
     ]
    }
   ],
   "source": [
    "history = model.fit(\n",
    "    train_generator,\n",
    "    epochs=8,\n",
    "    validation_data=validation_generator\n",
    ")"
   ]
  },
  {
   "cell_type": "code",
   "execution_count": 30,
   "id": "4aabc994",
   "metadata": {},
   "outputs": [],
   "source": [
    "test_df = pd.read_csv(test_csv_path)"
   ]
  },
  {
   "cell_type": "code",
   "execution_count": 31,
   "id": "9e157227",
   "metadata": {},
   "outputs": [
    {
     "name": "stdout",
     "output_type": "stream",
     "text": [
      "Found 109 validated image filenames belonging to 3 classes.\n"
     ]
    }
   ],
   "source": [
    "test_datagen = ImageDataGenerator(rescale=1./255)\n",
    "test_generator = test_datagen.flow_from_dataframe(\n",
    "    test_df,\n",
    "    directory=test_dir,\n",
    "    x_col='Image Name',\n",
    "    y_col='Class',\n",
    "    target_size=img_size,\n",
    "    batch_size=batch_size,\n",
    "    class_mode='categorical',\n",
    "    shuffle=False\n",
    ")"
   ]
  },
  {
   "cell_type": "code",
   "execution_count": 35,
   "id": "5a80987b",
   "metadata": {},
   "outputs": [
    {
     "data": {
      "text/html": [
       "<div>\n",
       "<style scoped>\n",
       "    .dataframe tbody tr th:only-of-type {\n",
       "        vertical-align: middle;\n",
       "    }\n",
       "\n",
       "    .dataframe tbody tr th {\n",
       "        vertical-align: top;\n",
       "    }\n",
       "\n",
       "    .dataframe thead th {\n",
       "        text-align: right;\n",
       "    }\n",
       "</style>\n",
       "<table border=\"1\" class=\"dataframe\">\n",
       "  <thead>\n",
       "    <tr style=\"text-align: right;\">\n",
       "      <th></th>\n",
       "      <th>Image Name</th>\n",
       "      <th>Class</th>\n",
       "    </tr>\n",
       "  </thead>\n",
       "  <tbody>\n",
       "    <tr>\n",
       "      <th>0</th>\n",
       "      <td>image75_rotated_180.jpg</td>\n",
       "      <td>L1</td>\n",
       "    </tr>\n",
       "    <tr>\n",
       "      <th>1</th>\n",
       "      <td>image75_rotated_270.jpg</td>\n",
       "      <td>L1</td>\n",
       "    </tr>\n",
       "    <tr>\n",
       "      <th>2</th>\n",
       "      <td>image76_rotated_0.jpg</td>\n",
       "      <td>L1</td>\n",
       "    </tr>\n",
       "    <tr>\n",
       "      <th>3</th>\n",
       "      <td>image76_rotated_90.jpg</td>\n",
       "      <td>L1</td>\n",
       "    </tr>\n",
       "    <tr>\n",
       "      <th>4</th>\n",
       "      <td>image76_rotated_180.jpg</td>\n",
       "      <td>L1</td>\n",
       "    </tr>\n",
       "    <tr>\n",
       "      <th>...</th>\n",
       "      <td>...</td>\n",
       "      <td>...</td>\n",
       "    </tr>\n",
       "    <tr>\n",
       "      <th>104</th>\n",
       "      <td>image98_rotated_180.jpg</td>\n",
       "      <td>L3</td>\n",
       "    </tr>\n",
       "    <tr>\n",
       "      <th>105</th>\n",
       "      <td>image97_rotated_0.jpg</td>\n",
       "      <td>L3</td>\n",
       "    </tr>\n",
       "    <tr>\n",
       "      <th>106</th>\n",
       "      <td>image97_rotated_90.jpg</td>\n",
       "      <td>L3</td>\n",
       "    </tr>\n",
       "    <tr>\n",
       "      <th>107</th>\n",
       "      <td>image97_rotated_180.jpg</td>\n",
       "      <td>L3</td>\n",
       "    </tr>\n",
       "    <tr>\n",
       "      <th>108</th>\n",
       "      <td>image97_rotated_270.jpg</td>\n",
       "      <td>L3</td>\n",
       "    </tr>\n",
       "  </tbody>\n",
       "</table>\n",
       "<p>109 rows × 2 columns</p>\n",
       "</div>"
      ],
      "text/plain": [
       "                  Image Name Class\n",
       "0    image75_rotated_180.jpg    L1\n",
       "1    image75_rotated_270.jpg    L1\n",
       "2      image76_rotated_0.jpg    L1\n",
       "3     image76_rotated_90.jpg    L1\n",
       "4    image76_rotated_180.jpg    L1\n",
       "..                       ...   ...\n",
       "104  image98_rotated_180.jpg    L3\n",
       "105    image97_rotated_0.jpg    L3\n",
       "106   image97_rotated_90.jpg    L3\n",
       "107  image97_rotated_180.jpg    L3\n",
       "108  image97_rotated_270.jpg    L3\n",
       "\n",
       "[109 rows x 2 columns]"
      ]
     },
     "execution_count": 35,
     "metadata": {},
     "output_type": "execute_result"
    }
   ],
   "source": [
    "test_df"
   ]
  },
  {
   "cell_type": "code",
   "execution_count": 36,
   "id": "fe243025",
   "metadata": {},
   "outputs": [
    {
     "name": "stdout",
     "output_type": "stream",
     "text": [
      "28/28 [==============================] - 2s 51ms/step - loss: 0.0711 - accuracy: 0.9817\n",
      "Test Accuracy: 98.17%\n"
     ]
    }
   ],
   "source": [
    "evaluation = model.evaluate(test_generator)\n",
    "\n",
    "accuracy = evaluation[1]\n",
    "print(f\"Test Accuracy: {accuracy * 100:.2f}%\")"
   ]
  },
  {
   "cell_type": "code",
   "execution_count": 34,
   "id": "7d420e3c",
   "metadata": {},
   "outputs": [
    {
     "name": "stderr",
     "output_type": "stream",
     "text": [
      "C:\\Users\\hp\\AppData\\Local\\Temp\\ipykernel_12688\\1057428663.py:2: UserWarning: `Model.predict_generator` is deprecated and will be removed in a future version. Please use `Model.predict`, which supports generators.\n",
      "  predictions = model.predict_generator(test_generator)\n"
     ]
    },
    {
     "name": "stdout",
     "output_type": "stream",
     "text": [
      "28/28 [==============================] - 2s 51ms/step - loss: 0.0711 - accuracy: 0.9817\n",
      "[0.07105017453432083, 0.9816513657569885]\n"
     ]
    }
   ],
   "source": [
    "image_filenames = test_generator.filenames\n",
    "predictions = model.predict_generator(test_generator)\n",
    "predictions_list = predictions.tolist()\n",
    "labels = []\n",
    "for prediction in predictions_list:\n",
    "    labels.append(prediction.index(max(prediction)))\n",
    "image_predictions = zip(image_filenames, labels)\n",
    "\n",
    "evaluation = model.evaluate(test_generator)\n",
    "print(evaluation)"
   ]
  },
  {
   "cell_type": "code",
   "execution_count": 33,
   "id": "0a20c4b9",
   "metadata": {},
   "outputs": [
    {
     "name": "stdout",
     "output_type": "stream",
     "text": [
      "image75_rotated_180.jpg 0\n",
      "image75_rotated_270.jpg 0\n",
      "image76_rotated_0.jpg 0\n",
      "image76_rotated_90.jpg 0\n",
      "image76_rotated_180.jpg 0\n",
      "image76_rotated_270.jpg 0\n",
      "image78_rotated_0.jpg 0\n",
      "image78_rotated_90.jpg 0\n",
      "image78_rotated_180.jpg 0\n",
      "image78_rotated_270.jpg 0\n",
      "image82_rotated_0.jpg 0\n",
      "image82_rotated_90.jpg 0\n",
      "image82_rotated_180.jpg 0\n",
      "image82_rotated_270.jpg 0\n",
      "image84_rotated_0.jpg 0\n",
      "image84_rotated_90.jpg 0\n",
      "image84_rotated_180.jpg 0\n",
      "image84_rotated_270.jpg 0\n",
      "image87_rotated_0.jpg 0\n",
      "image87_rotated_90.jpg 0\n",
      "image87_rotated_180.jpg 0\n",
      "image87_rotated_270.jpg 0\n",
      "image88_rotated_0.jpg 0\n",
      "image88_rotated_90.jpg 0\n",
      "image88_rotated_180.jpg 0\n",
      "image88_rotated_270.jpg 0\n",
      "image89_rotated_0.jpg 0\n",
      "image89_rotated_90.jpg 0\n",
      "image89_rotated_180.jpg 0\n",
      "image89_rotated_270.jpg 0\n",
      "image91_rotated_0.jpg 0\n",
      "image91_rotated_90.jpg 0\n",
      "image91_rotated_180.jpg 0\n",
      "image91_rotated_270.jpg 0\n",
      "image95_rotated_0.jpg 0\n",
      "image95_rotated_90.jpg 0\n",
      "image95_rotated_180.jpg 1\n",
      "image95_rotated_270.jpg 1\n",
      "image96_rotated_0.jpg 0\n",
      "image96_rotated_90.jpg 0\n",
      "image96_rotated_180.jpg 0\n",
      "image96_rotated_270.jpg 0\n",
      "image62_rotated_0.jpg 1\n",
      "image62_rotated_90.jpg 1\n",
      "image62_rotated_180.jpg 1\n",
      "image62_rotated_270.jpg 1\n",
      "image64_rotated_0.jpg 1\n",
      "image64_rotated_90.jpg 1\n",
      "image64_rotated_180.jpg 1\n",
      "image64_rotated_270.jpg 1\n",
      "image66_rotated_0.jpg 1\n",
      "image66_rotated_180.jpg 1\n",
      "image66_rotated_270.jpg 1\n",
      "image69_rotated_0.jpg 1\n",
      "image69_rotated_90.jpg 1\n",
      "image69_rotated_180.jpg 1\n",
      "image69_rotated_270.jpg 1\n",
      "image71_rotated_0.jpg 1\n",
      "image71_rotated_90.jpg 1\n",
      "image71_rotated_180.jpg 1\n",
      "image79_rotated_0.jpg 1\n",
      "image79_rotated_90.jpg 1\n",
      "image79_rotated_180.jpg 1\n",
      "image79_rotated_270.jpg 1\n",
      "image80_rotated_0.jpg 1\n",
      "image80_rotated_90.jpg 1\n",
      "image80_rotated_180.jpg 1\n",
      "image80_rotated_270.jpg 1\n",
      "image81_rotated_0.jpg 1\n",
      "image81_rotated_180.jpg 1\n",
      "image81_rotated_270.jpg 1\n",
      "image86_rotated_0.jpg 1\n",
      "image86_rotated_90.jpg 1\n",
      "image86_rotated_180.jpg 1\n",
      "image86_rotated_270.jpg 1\n",
      "image90_rotated_0.jpg 1\n",
      "image90_rotated_90.jpg 1\n",
      "image90_rotated_180.jpg 1\n",
      "image93_rotated_0.jpg 1\n",
      "image93_rotated_90.jpg 1\n",
      "image93_rotated_180.jpg 1\n",
      "image93_rotated_270.jpg 1\n",
      "image94_rotated_0.jpg 1\n",
      "image94_rotated_90.jpg 1\n",
      "image94_rotated_180.jpg 1\n",
      "image94_rotated_270.jpg 1\n",
      "image77_rotated_0.jpg 2\n",
      "image77_rotated_90.jpg 2\n",
      "image77_rotated_180.jpg 2\n",
      "image77_rotated_270.jpg 2\n",
      "image83_rotated_0.jpg 2\n",
      "image83_rotated_90.jpg 2\n",
      "image83_rotated_180.jpg 2\n",
      "image83_rotated_270.jpg 2\n",
      "image85_rotated_0.jpg 2\n",
      "image85_rotated_90.jpg 2\n",
      "image85_rotated_180.jpg 2\n",
      "image85_rotated_270.jpg 2\n",
      "image92_rotated_0.jpg 2\n",
      "image92_rotated_90.jpg 2\n",
      "image92_rotated_180.jpg 2\n",
      "image92_rotated_270.jpg 2\n",
      "image98_rotated_0.jpg 2\n",
      "image98_rotated_90.jpg 2\n",
      "image98_rotated_180.jpg 2\n",
      "image97_rotated_0.jpg 2\n",
      "image97_rotated_90.jpg 2\n",
      "image97_rotated_180.jpg 2\n",
      "image97_rotated_270.jpg 2\n"
     ]
    }
   ],
   "source": [
    "for image, label in image_predictions:\n",
    "    print(image,label,end=\"\\n\")"
   ]
  },
  {
   "cell_type": "code",
   "execution_count": null,
   "id": "b655394b",
   "metadata": {},
   "outputs": [],
   "source": []
  }
 ],
 "metadata": {
  "kernelspec": {
   "display_name": "Python 3 (ipykernel)",
   "language": "python",
   "name": "python3"
  },
  "language_info": {
   "codemirror_mode": {
    "name": "ipython",
    "version": 3
   },
   "file_extension": ".py",
   "mimetype": "text/x-python",
   "name": "python",
   "nbconvert_exporter": "python",
   "pygments_lexer": "ipython3",
   "version": "3.9.12"
  }
 },
 "nbformat": 4,
 "nbformat_minor": 5
}
